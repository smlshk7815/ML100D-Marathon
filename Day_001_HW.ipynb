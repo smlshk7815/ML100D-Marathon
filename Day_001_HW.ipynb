{
 "cells": [
  {
   "cell_type": "markdown",
   "metadata": {},
   "source": [
    "## 練習時間\n",
    "#### 請寫一個函式用來計算 Mean Square Error\n",
    "$ MSE = \\frac{1}{n}\\sum_{i=1}^{n}{(Y_i - \\hat{Y}_i)^2} $\n",
    "\n",
    "### Hint: [如何取平方](https://googoodesign.gitbooks.io/-ezpython/unit-1.html)"
   ]
  },
  {
   "cell_type": "markdown",
   "metadata": {},
   "source": [
    "# [作業目標]\n",
    "- 仿造範例的MAE函數, 自己寫一個MSE函數(參考上面公式)"
   ]
  },
  {
   "cell_type": "markdown",
   "metadata": {},
   "source": [
    "# [作業重點]\n",
    "- 注意程式的縮排\n",
    "- 是否能將數學公式, 轉換為 Python 的函式組合? (In[2], Out[2])"
   ]
  },
  {
   "cell_type": "code",
   "execution_count": 1,
   "metadata": {},
   "outputs": [],
   "source": [
    "# 載入基礎套件與代稱\n",
    "import numpy as np\n",
    "import matplotlib.pyplot as plt\n",
    "import math"
   ]
  },
  {
   "cell_type": "code",
   "execution_count": 2,
   "metadata": {},
   "outputs": [],
   "source": [
    "def mean_absolute_error(y, yp):\n",
    "    \"\"\"\n",
    "    計算 MAE\n",
    "    Args:\n",
    "        - y: 實際值\n",
    "        - yp: 預測值\n",
    "    Return:\n",
    "        - mae: MAE\n",
    "    \"\"\"\n",
    "    mae = MAE = sum(abs(y - yp)) / len(y)\n",
    "    return mae\n",
    "\n",
    "# 定義 mean_squared_error 這個函數, 計算並傳回 MSE\n",
    "def mean_squared_error(y, yp):\n",
    "    mse = sum( (y - yp)**2 ) / len(y)\n",
    "    return mse\n",
    "\n"
   ]
  },
  {
   "cell_type": "markdown",
   "metadata": {},
   "source": [
    "Note:\n",
    "math.pow 好像不支援二個一維矩陣 element wise 的運算。\n",
    "以下的寫法是失敗的:\n",
    "mse = sum( math.pow((y - yp),2) ) / len(y)\n",
    "會跑出以下訊息:\n",
    "TypeError: only size-1 arrays can be converted to Python scalars"
   ]
  },
  {
   "cell_type": "code",
   "execution_count": 4,
   "metadata": {},
   "outputs": [
    {
     "data": {
      "image/png": "[encoded data removed]",
      "text/plain": [
       "<Figure size 432x288 with 1 Axes>"
      ]
     },
     "metadata": {
      "needs_background": "light"
     },
     "output_type": "display_data"
    }
   ],
   "source": [
    "# 與範例相同, 不另外解說\n",
    "w = 3\n",
    "b = 0.5\n",
    "x_lin = np.linspace(0, 100, 101)\n",
    "y = (x_lin + np.random.randn(101) * 5) * w + b\n",
    "\n",
    "plt.plot(x_lin, y, 'b.', label = 'data points')\n",
    "plt.title(\"Assume we have data points\")\n",
    "plt.legend(loc = 2)\n",
    "plt.show()"
   ]
  },
  {
   "cell_type": "code",
   "execution_count": 5,
   "metadata": {},
   "outputs": [
    {
     "data": {
      "image/png": "[encoded data removed]",
      "text/plain": [
       "<Figure size 432x288 with 1 Axes>"
      ]
     },
     "metadata": {
      "needs_background": "light"
     },
     "output_type": "display_data"
    }
   ],
   "source": [
    "# 與範例相同, 不另外解說\n",
    "y_hat = x_lin * w + b\n",
    "plt.plot(x_lin, y, 'b.', label = 'data')\n",
    "plt.plot(x_lin, y_hat, 'r-', label = 'prediction')\n",
    "plt.title(\"Assume we have data points (And the prediction)\")\n",
    "plt.legend(loc = 2)\n",
    "plt.show()"
   ]
  },
  {
   "cell_type": "code",
   "execution_count": 6,
   "metadata": {},
   "outputs": [
    {
     "name": "stdout",
     "output_type": "stream",
     "text": [
      "The Mean squared error is 237.984\n",
      "The Mean absolute error is 12.234\n"
     ]
    }
   ],
   "source": [
    "# 執行 Function, 確認有沒有正常執行\n",
    "MSE = mean_squared_error(y, y_hat)\n",
    "MAE = mean_absolute_error(y, y_hat)\n",
    "print(\"The Mean squared error is %.3f\" % (MSE))\n",
    "print(\"The Mean absolute error is %.3f\" % (MAE))"
   ]
  },
  {
   "cell_type": "markdown",
   "metadata": {},
   "source": [
    "# [作業2]\n",
    "\n",
    "請上 Kaggle, 在 Competitions 或 Dataset 中找一組競賽或資料並寫下：\n",
    "\n",
    "1. 你選的這組資料為何重要\n",
    "\n",
    "2. 資料從何而來 (tips: 譬如提供者是誰、以什麼方式蒐集)\n",
    "\n",
    "3. 蒐集而來的資料型態為何\n",
    "\n",
    "4. 這組資料想解決的問題如何評估\n",
    "\n",
    "\n",
    "選擇的競賽: Open Images 2019 - Object Detection\n",
    "\n",
    "1. 競賽的目標在於將影像中的物件辨識出來並分類。\n",
    "   重要性在於：\n",
    "   (1) 將影像中的物件辨識出來可能會有助於相機應用程式拍照後製處理，可以針對物件銳利化或模糊化。\n",
    "   (2) 將可能透過拍照來統計物件的數量，可能可以應用在空拍機或是街道，計算車流、人潮等等..\n",
    "\n",
    "2. 資料的提供者為Google。\n",
    "   資料取得的方式為Google依據\"CC BY 2.0\"的規範，從\"CC BY\"合作平台上取得他人分享的影像。\n",
    "   Google再將這些影像進行分類標註，而註解符合\"CC BY 4.0\"的授權規範。\n",
    "\n",
    "3. 蒐集來的資料型態為一張張有著註解(annotation)的影像，一張影像上可能有不只一個註解。\n",
    "\n",
    "4. 提供的方法的好壞會透過計算\"mean Average Precision(mAP)來評估\"，會考慮各個分類的判斷精確度。\n",
    "\n",
    "\n",
    "# [作業3]\n",
    "\n",
    "想像你經營一個自由載客車隊，你希望能透過數據分析以提升業績，請你思考並描述你如何規劃整體的分析/解決方案：\n",
    "\n",
    "1. 核心問題為何 (tips：如何定義 「提升業績 & 你的假設」)\n",
    "\n",
    "2. 資料從何而來 (tips：哪些資料可能會對你想問的問題產生影響 & 資料如何蒐集)\n",
    "\n",
    "3. 蒐集而來的資料型態為何\n",
    "\n",
    "4. 你要回答的問題，其如何評估 (tips：你的假設如何驗證)\n",
    "\n",
    "\n",
    "回答：\n",
    "1. 我們無法決定哪個客人會去哪裡，但是我們可以統計出在現在這個時段，有多少人從哪些地點搭乘車隊。\n",
    "   我想出的提升業績的方法，是將車隊的車於載客後集中在特定幾個集合點等候，\n",
    "   如果在此時段，城市的有二三個區域特別多人搭乘，則在這些區域分別設定集合點，\n",
    "   讓車隊的車載完客人後，去距離最近的集合點等候，\n",
    "   當有人叫車時，可以在較快的時間內趕到，減少車輛四處遊走反而需要多花時間去接下個客人。\n",
    "   不同的時段集合點也會跟著更改，可能以小時為單位更換。\n",
    "\n",
    "2. 資料蒐集方式為，在車上裝設定位系統，紀錄車子的行走路線，使用額外的系統紀錄車輛為\"載客中\"或為\"移動中\"。\n",
    "\n",
    "3. 資料會有三個參數：上車時間、上車地點的X座標、上車地點的Y座標\n",
    "\n",
    "4. 評估車輛的\"載客中\"的時間是否有增加，\"移動中\"的時間是否有減少。(不考慮起始價錢的狀況下)"
   ]
  }
 ],
 "metadata": {
  "anaconda-cloud": {},
  "kernelspec": {
   "display_name": "Python 3",
   "language": "python",
   "name": "python3"
  },
  "language_info": {
   "codemirror_mode": {
    "name": "ipython",
    "version": 3
   },
   "file_extension": ".py",
   "mimetype": "text/x-python",
   "name": "python",
   "nbconvert_exporter": "python",
   "pygments_lexer": "ipython3",
   "version": "3.7.3"
  }
 },
 "nbformat": 4,
 "nbformat_minor": 1
}
