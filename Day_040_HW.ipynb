{
 "cells": [
  {
   "cell_type": "markdown",
   "metadata": {},
   "source": [
    "## [作業重點]\n",
    "使用 Sklearn 中的 Lasso, Ridge 模型，來訓練各種資料集，務必了解送進去模型訓練的**資料型態**為何，也請了解模型中各項參數的意義。\n",
    "\n",
    "機器學習的模型非常多種，但要訓練的資料多半有固定的格式，確保你了解訓練資料的格式為何，這樣在應用新模型時，就能夠最快的上手開始訓練！"
   ]
  },
  {
   "cell_type": "markdown",
   "metadata": {},
   "source": [
    "## 練習時間\n",
    "試著使用 sklearn datasets 的其他資料集 (boston, ...)，來訓練自己的線性迴歸模型，並加上適當的正則化來觀察訓練情形。"
   ]
  },
  {
   "cell_type": "markdown",
   "metadata": {},
   "source": [
    "## [Summary]"
   ]
  },
  {
   "cell_type": "markdown",
   "metadata": {},
   "source": [
    "1. 以下程式碼使用sklearn的boston資料集，進行Lasso(L1)與Ridge(L2) regression。\n",
    "2. 若比較當alpha變大時的狀況，可以看到lasso regression有的特徵係數已經變成0，達到feature selection。Ridge regression則沒有辦法，係數只能趨近於0，無法變成0。"
   ]
  },
  {
   "cell_type": "markdown",
   "metadata": {},
   "source": [
    "### [Load data]"
   ]
  },
  {
   "cell_type": "code",
   "execution_count": 1,
   "metadata": {},
   "outputs": [],
   "source": [
    "# 使用 sklearn 資料集 boston\n",
    "from sklearn.datasets import load_boston\n",
    "X, y = load_boston(return_X_y=True)\n",
    "B = load_boston()\n",
    "# print(B.DESCR)"
   ]
  },
  {
   "cell_type": "markdown",
   "metadata": {},
   "source": [
    "### [Split data]"
   ]
  },
  {
   "cell_type": "code",
   "execution_count": 2,
   "metadata": {},
   "outputs": [],
   "source": [
    "from sklearn.model_selection import train_test_split\n",
    "from sklearn.metrics import mean_squared_error\n",
    "x_train, x_test, y_train, y_test = train_test_split(X,y,test_size=0.2)"
   ]
  },
  {
   "cell_type": "markdown",
   "metadata": {},
   "source": [
    "### [Lasso regression]"
   ]
  },
  {
   "cell_type": "code",
   "execution_count": 3,
   "metadata": {},
   "outputs": [
    {
     "name": "stdout",
     "output_type": "stream",
     "text": [
      "  (0, 0)\t-0.12296255264994245\n",
      "  (0, 1)\t0.051911007670823565\n",
      "  (0, 2)\t-0.024591611526973332\n",
      "  (0, 3)\t2.484234237281261\n",
      "  (0, 5)\t3.969787003963485\n",
      "  (0, 6)\t-0.01309451414128302\n",
      "  (0, 7)\t-1.2225384262298624\n",
      "  (0, 8)\t0.28172736308884605\n",
      "  (0, 9)\t-0.012986018297284874\n",
      "  (0, 10)\t-0.7767531411965006\n",
      "  (0, 11)\t0.007436980820442175\n",
      "  (0, 12)\t-0.5679983002571402\n"
     ]
    }
   ],
   "source": [
    "from sklearn.linear_model import Lasso\n",
    "reg = Lasso(alpha=0.1)\n",
    "reg.fit(x_train, y_train)\n",
    "# 印出訓練後的模型參參數\n",
    "#print(reg.coef_) \n",
    "print(reg.sparse_coef_)"
   ]
  },
  {
   "cell_type": "code",
   "execution_count": 4,
   "metadata": {},
   "outputs": [
    {
     "name": "stdout",
     "output_type": "stream",
     "text": [
      "Mean squared error: 29.52\n"
     ]
    }
   ],
   "source": [
    "# 將測試資料丟進模型得到預測結果\n",
    "y_pred = reg.predict(x_test)\n",
    "# 預測值與實際值的差距，使用 MSE\n",
    "print(\"Mean squared error: %.2f\"\n",
    "      % mean_squared_error(y_test, y_pred))"
   ]
  },
  {
   "cell_type": "code",
   "execution_count": 5,
   "metadata": {},
   "outputs": [
    {
     "name": "stdout",
     "output_type": "stream",
     "text": [
      "  (0, 0)\t-0.07973996086206857\n",
      "  (0, 1)\t0.050855659580565316\n",
      "  (0, 5)\t1.1374365417359775\n",
      "  (0, 6)\t0.01990775166593389\n",
      "  (0, 7)\t-0.701510822488798\n",
      "  (0, 8)\t0.2625365800210538\n",
      "  (0, 9)\t-0.013625887893413027\n",
      "  (0, 10)\t-0.7449746454515753\n",
      "  (0, 11)\t0.004891295186663083\n",
      "  (0, 12)\t-0.7612429256651633\n"
     ]
    }
   ],
   "source": [
    "reg2 = Lasso(alpha=1)\n",
    "reg2.fit(x_train, y_train)\n",
    "print(reg2.sparse_coef_)"
   ]
  },
  {
   "cell_type": "code",
   "execution_count": 6,
   "metadata": {},
   "outputs": [
    {
     "name": "stdout",
     "output_type": "stream",
     "text": [
      "Mean squared error: 28.39\n"
     ]
    }
   ],
   "source": [
    "y_pred = reg2.predict(x_test)\n",
    "print(\"Mean squared error: %.2f\"\n",
    "      % mean_squared_error(y_test, y_pred))"
   ]
  },
  {
   "cell_type": "markdown",
   "metadata": {},
   "source": [
    "### [Ridge regression]"
   ]
  },
  {
   "cell_type": "code",
   "execution_count": 7,
   "metadata": {},
   "outputs": [
    {
     "name": "stdout",
     "output_type": "stream",
     "text": [
      "[-1.28044089e-01  5.02583562e-02  2.11813311e-02  3.93638054e+00\n",
      " -1.47936336e+01  4.11854021e+00 -4.80943974e-03 -1.50166019e+00\n",
      "  3.12793670e-01 -1.14349411e-02 -9.17502746e-01  7.08820711e-03\n",
      " -5.30541525e-01]\n"
     ]
    }
   ],
   "source": [
    "from sklearn.linear_model import Ridge\n",
    "reg = Ridge(alpha=0.1)\n",
    "reg.fit(x_train, y_train)\n",
    "# 印出訓練後的模型參參數\n",
    "print(reg.coef_)"
   ]
  },
  {
   "cell_type": "code",
   "execution_count": 8,
   "metadata": {},
   "outputs": [
    {
     "name": "stdout",
     "output_type": "stream",
     "text": [
      "Mean squared error: 29.08\n"
     ]
    }
   ],
   "source": [
    "# 將測試資料丟進模型得到預測結果\n",
    "y_pred = reg.predict(x_test)\n",
    "# 預測值與實際值的差距，使用 MSE\n",
    "print(\"Mean squared error: %.2f\"\n",
    "      % mean_squared_error(y_test, y_pred))"
   ]
  },
  {
   "cell_type": "code",
   "execution_count": 9,
   "metadata": {},
   "outputs": [
    {
     "name": "stdout",
     "output_type": "stream",
     "text": [
      "[-1.27127266e-01  5.09295663e-02 -3.98551887e-03  3.86588991e+00\n",
      " -8.66106227e+00  4.14465948e+00 -1.02770762e-02 -1.41145313e+00\n",
      "  2.96419458e-01 -1.17775650e-02 -8.56268074e-01  7.22725766e-03\n",
      " -5.37006440e-01]\n"
     ]
    }
   ],
   "source": [
    "reg2 = Ridge(alpha=1)\n",
    "reg2.fit(x_train, y_train)\n",
    "print(reg2.coef_)"
   ]
  },
  {
   "cell_type": "code",
   "execution_count": 10,
   "metadata": {},
   "outputs": [
    {
     "name": "stdout",
     "output_type": "stream",
     "text": [
      "Mean squared error: 29.65\n"
     ]
    }
   ],
   "source": [
    "y_pred = reg2.predict(x_test)\n",
    "print(\"Mean squared error: %.2f\"\n",
    "      % mean_squared_error(y_test, y_pred))"
   ]
  }
 ],
 "metadata": {
  "kernelspec": {
   "display_name": "Python 3",
   "language": "python",
   "name": "python3"
  },
  "language_info": {
   "codemirror_mode": {
    "name": "ipython",
    "version": 3
   },
   "file_extension": ".py",
   "mimetype": "text/x-python",
   "name": "python",
   "nbconvert_exporter": "python",
   "pygments_lexer": "ipython3",
   "version": "3.7.6"
  },
  "varInspector": {
   "cols": {
    "lenName": 16,
    "lenType": 16,
    "lenVar": 40
   },
   "kernels_config": {
    "python": {
     "delete_cmd_postfix": "",
     "delete_cmd_prefix": "del ",
     "library": "var_list.py",
     "varRefreshCmd": "print(var_dic_list())"
    },
    "r": {
     "delete_cmd_postfix": ") ",
     "delete_cmd_prefix": "rm(",
     "library": "var_list.r",
     "varRefreshCmd": "cat(var_dic_list()) "
    }
   },
   "types_to_exclude": [
    "module",
    "function",
    "builtin_function_or_method",
    "instance",
    "_Feature"
   ],
   "window_display": false
  }
 },
 "nbformat": 4,
 "nbformat_minor": 2
}
