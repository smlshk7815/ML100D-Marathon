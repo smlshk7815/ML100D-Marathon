{
 "cells": [
  {
   "cell_type": "markdown",
   "metadata": {},
   "source": [
    "# 作業目標:\n",
    "    寫出 ReLU & dReLU 一階導數\n",
    "    並列印\n"
   ]
  },
  {
   "cell_type": "markdown",
   "metadata": {},
   "source": [
    "# 作業重點\n",
    "\n",
    "# Rectified Linear Unit- Relu \n",
    "\n",
    "f(x)=max(0,x)\n"
   ]
  },
  {
   "cell_type": "code",
   "execution_count": 1,
   "metadata": {},
   "outputs": [],
   "source": [
    "import numpy as np\n",
    "import matplotlib.pylab as plt\n",
    "%matplotlib inline"
   ]
  },
  {
   "cell_type": "code",
   "execution_count": 2,
   "metadata": {},
   "outputs": [],
   "source": [
    "def ReLU(x):\n",
    "    if x >= 0:\n",
    "        return x\n",
    "    if x < 0:\n",
    "        return 0    \n",
    "\n",
    "def dReLU(x):\n",
    "    if x > 0:\n",
    "        return 1\n",
    "    if x < 0:\n",
    "        return 0\n",
    "    if x == 0:\n",
    "        return 0.5    \n",
    "    # 理論上 x = 0 處有左右二個倒數，數學上可以定義 0.5 或是無定義，這裡為了作圖，當 0.5。"
   ]
  },
  {
   "cell_type": "code",
   "execution_count": 3,
   "metadata": {},
   "outputs": [
    {
     "data": {
      "image/png": "[encoded data removed]",
      "text/plain": [
       "<Figure size 432x288 with 1 Axes>"
      ]
     },
     "metadata": {
      "needs_background": "light"
     },
     "output_type": "display_data"
    }
   ],
   "source": [
    "# linespace generate an array from start and stop value\n",
    "# with requested number of elements. Example 10 elements or 100 elements.\n",
    "x = plt.linspace(-10,10,100).astype('float64')\n",
    "y = plt.linspace(-10,10,100).astype('float64') # 無法直接將 x 餵進 ReLU 裡面進行元素運算，但不知道為什麼範例可以...\n",
    "for i in range(0,100):\n",
    "    y[i] = ReLU(x[i])\n",
    "\n",
    "# prepare the plot, associate the color r(ed) or b(lue) and the label \n",
    "plt.plot(x, y, 'b', label='linspace(-10,10,10)')\n",
    "\n",
    "# Draw the grid line in background.\n",
    "plt.grid()\n",
    "\n",
    "# 顯現圖示的 Title\n",
    "plt.title('ReLU Function')\n",
    "\n",
    "# 顯現 the ReLU formula\n",
    "# plt.text(4, 0.8, r'$\\sigma(x)=\\frac{1}{1+e^{-x}}$', fontsize=15)\n",
    "\n",
    "#resize the X and Y axes\n",
    "plt.gca().xaxis.set_major_locator(plt.MultipleLocator(1))\n",
    "plt.gca().yaxis.set_major_locator(plt.MultipleLocator(1))\n",
    " \n",
    "# create the graph\n",
    "plt.show()"
   ]
  },
  {
   "cell_type": "code",
   "execution_count": 4,
   "metadata": {},
   "outputs": [
    {
     "data": {
      "image/png": "[encoded data removed]",
      "text/plain": [
       "<Figure size 432x288 with 1 Axes>"
      ]
     },
     "metadata": {
      "needs_background": "light"
     },
     "output_type": "display_data"
    }
   ],
   "source": [
    "# linespace generate an array from start and stop value\n",
    "# with requested number of elements. Example 10 elements or 100 elements.\n",
    "x = plt.linspace(-10,10,100).astype('float64')\n",
    "y = plt.linspace(-10,10,100).astype('float64') # 不知道為什麼直接將 \n",
    "for i in range(0,100):\n",
    "    y[i] = dReLU(x[i])\n",
    "\n",
    "# prepare the plot, associate the color r(ed) or b(lue) and the label \n",
    "plt.plot(x, y, 'b', label='linspace(-10,10,10)')\n",
    "\n",
    "# Draw the grid line in background.\n",
    "plt.grid()\n",
    "\n",
    "# 顯現圖示的 Title\n",
    "plt.title('ReLU Function')\n",
    "\n",
    "# 顯現 the ReLU formula\n",
    "# plt.text(4, 0.8, r'$\\sigma(x)=\\frac{1}{1+e^{-x}}$', fontsize=15)\n",
    "\n",
    "#resize the X and Y axes\n",
    "plt.gca().xaxis.set_major_locator(plt.MultipleLocator(1))\n",
    "plt.gca().yaxis.set_major_locator(plt.MultipleLocator(1))\n",
    " \n",
    "# create the graph\n",
    "plt.show()"
   ]
  }
 ],
 "metadata": {
  "kernelspec": {
   "display_name": "Python 3",
   "language": "python",
   "name": "python3"
  },
  "language_info": {
   "codemirror_mode": {
    "name": "ipython",
    "version": 3
   },
   "file_extension": ".py",
   "mimetype": "text/x-python",
   "name": "python",
   "nbconvert_exporter": "python",
   "pygments_lexer": "ipython3",
   "version": "3.7.3"
  },
  "varInspector": {
   "cols": {
    "lenName": 16,
    "lenType": 16,
    "lenVar": 40
   },
   "kernels_config": {
    "python": {
     "delete_cmd_postfix": "",
     "delete_cmd_prefix": "del ",
     "library": "var_list.py",
     "varRefreshCmd": "print(var_dic_list())"
    },
    "r": {
     "delete_cmd_postfix": ") ",
     "delete_cmd_prefix": "rm(",
     "library": "var_list.r",
     "varRefreshCmd": "cat(var_dic_list()) "
    }
   },
   "types_to_exclude": [
    "module",
    "function",
    "builtin_function_or_method",
    "instance",
    "_Feature"
   ],
   "window_display": false
  }
 },
 "nbformat": 4,
 "nbformat_minor": 2
}
